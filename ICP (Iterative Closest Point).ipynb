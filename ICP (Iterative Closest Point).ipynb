{
 "cells": [
  {
   "cell_type": "code",
   "execution_count": 1,
   "metadata": {
    "collapsed": true
   },
   "outputs": [],
   "source": [
    "import numpy as np"
   ]
  },
  {
   "cell_type": "code",
   "execution_count": 42,
   "metadata": {
    "collapsed": true
   },
   "outputs": [],
   "source": [
    "def best_fit_transform(A, B):\n",
    "    '''\n",
    "    Calculates the least-squares best-fit transform between corresponding 3D points A->B\n",
    "    Input:\n",
    "      A: Nx3 numpy array of corresponding 3D points\n",
    "      B: Nx3 numpy array of corresponding 3D points\n",
    "    Returns:\n",
    "      T: 4x4 homogeneous transformation matrix\n",
    "      R: 3x3 rotation matrix\n",
    "      t: 3x1 column vector\n",
    "    '''\n",
    "\n",
    "    assert len(A) == len(B)\n",
    "\n",
    "    # translate points to their centroids\n",
    "    centroid_A = np.mean(A, axis=0) #计算x,y,z轴的中心值\n",
    "    centroid_B = np.mean(B, axis=0)\n",
    "    AA = A - centroid_A\n",
    "    BB = B - centroid_B\n",
    "\n",
    "    # rotation matrix\n",
    "    W = np.dot(BB.T, AA)\n",
    "    U, s, VT = np.linalg.svd(W, full_matrices=True, compute_uv=True)\n",
    "    R = np.dot(U, VT)\n",
    "\n",
    "    # special reflection case\n",
    "    if np.linalg.det(R) < 0:\n",
    "        VT[2,:] *= -1\n",
    "        R = np.dot(U, VT)\n",
    "\n",
    "\n",
    "    # translation\n",
    "    t = centroid_B.T - np.dot(R,centroid_A.T)\n",
    "\n",
    "    # homogeneous transformation\n",
    "    T = np.identity(4)\n",
    "    T[0:3, 0:3] = R\n",
    "    T[0:3, 3] = t\n",
    "\n",
    "    return T, R, t"
   ]
  },
  {
   "cell_type": "code",
   "execution_count": 50,
   "metadata": {
    "collapsed": true
   },
   "outputs": [],
   "source": [
    "def nearest_neighbor(src, dst):\n",
    "    '''\n",
    "    Find the nearest (Euclidean) neighbor in dst for each point in src\n",
    "    Input:\n",
    "        src: Nx3 array of points\n",
    "        dst: Nx3 array of points\n",
    "    Output:\n",
    "        distances: Euclidean distances (errors) of the nearest neighbor\n",
    "        indecies: dst indecies of the nearest neighbor\n",
    "    '''\n",
    "\n",
    "    indecies = np.zeros(src.shape[0], dtype=np.int)\n",
    "    distances = np.zeros(src.shape[0])\n",
    "    for i, s in enumerate(src):\n",
    "        min_dist = np.inf\n",
    "        for j, d in enumerate(dst):\n",
    "            dist = np.linalg.norm(s-d)\n",
    "            # 找出与src[i]距离最近的dst[j]\n",
    "            if dist < min_dist:\n",
    "                min_dist = dist\n",
    "                indecies[i] = j\n",
    "                distances[i] = dist\n",
    "    return distances, indecies"
   ]
  },
  {
   "cell_type": "code",
   "execution_count": 44,
   "metadata": {
    "collapsed": true
   },
   "outputs": [],
   "source": [
    "def icp(A, B, init_pose=None, max_iterations=50, tolerance=0.001):\n",
    "    '''\n",
    "    The Iterative Closest Point method\n",
    "    Input:\n",
    "        A: Nx3 numpy array of source 3D points\n",
    "        B: Nx3 numpy array of destination 3D point\n",
    "        init_pose: 4x4 homogeneous transformation\n",
    "        max_iterations: exit algorithm after max_iterations\n",
    "        tolerance: convergence criteria\n",
    "    Output:\n",
    "        T: final homogeneous transformation\n",
    "        distances: Euclidean distances (errors) of the nearest neighbor\n",
    "    '''\n",
    "\n",
    "    # make points homogeneous, copy them so as to maintain the originals\n",
    "    src = np.ones((4,A.shape[0]))  #(4, A.shape[0])\n",
    "    dst = np.ones((4,B.shape[0]))\n",
    "    src[0:3,:] = np.copy(A.T)  # A.T shape (3,20)\n",
    "    dst[0:3,:] = np.copy(B.T)\n",
    "\n",
    "    # apply the initial pose estimation\n",
    "    if init_pose is not None:\n",
    "        src = np.dot(init_pose, src)\n",
    "\n",
    "    prev_error = 0\n",
    "\n",
    "    for i in range(max_iterations):\n",
    "        # find the nearest neighbours between the current source and destination points\n",
    "        distances, indices = nearest_neighbor(src[0:3,:].T, dst[0:3,:].T)\n",
    "\n",
    "        # compute the transformation between the current source and nearest destination points\n",
    "        T,_,_ = best_fit_transform(src[0:3,:].T, dst[0:3,indices].T)  #将dst[]按照indices排序\n",
    "\n",
    "        # update the current source\n",
    "    # refer to \"Introduction to Robotics\" Chapter2 P28. Spatial description and transformations\n",
    "        src = np.dot(T, src)\n",
    "\n",
    "        # check error\n",
    "        mean_error = np.sum(distances) / distances.size\n",
    "        if abs(prev_error-mean_error) < tolerance:\n",
    "            break\n",
    "        prev_error = mean_error\n",
    "\n",
    "    # calculcate final tranformation\n",
    "    T,_,_ = best_fit_transform(A, src[0:3,:].T)\n",
    "\n",
    "    return T, distances"
   ]
  },
  {
   "cell_type": "code",
   "execution_count": 51,
   "metadata": {
    "scrolled": false
   },
   "outputs": [
    {
     "name": "stdout",
     "output_type": "stream",
     "text": [
      "[[  0.949   0.211   0.234 -48.397]\n",
      " [ -0.212   0.977  -0.018  25.541]\n",
      " [ -0.233  -0.033   0.972  19.054]\n",
      " [  0.      0.      0.      1.   ]]\n"
     ]
    }
   ],
   "source": [
    "if __name__ == \"__main__\":\n",
    "    A = np.random.randint(0,101,(20,3))    # 20 points for test\n",
    "    \n",
    "    rotz = lambda theta: np.array([[np.cos(theta),-np.sin(theta),0],\n",
    "                                       [np.sin(theta),np.cos(theta),0],\n",
    "                                       [0,0,1]])\n",
    "    trans = np.array([2.12,-0.2,1.3])\n",
    "    B = A.dot(rotz(np.pi/4).T) + trans\n",
    "    \n",
    "    T, distances = icp(A, B)\n",
    "\n",
    "    np.set_printoptions(precision=3,suppress=True)\n",
    "    print (T)"
   ]
  }
 ],
 "metadata": {
  "kernelspec": {
   "display_name": "Python 3",
   "language": "python",
   "name": "python3"
  },
  "language_info": {
   "codemirror_mode": {
    "name": "ipython",
    "version": 3
   },
   "file_extension": ".py",
   "mimetype": "text/x-python",
   "name": "python",
   "nbconvert_exporter": "python",
   "pygments_lexer": "ipython3",
   "version": "3.6.2"
  }
 },
 "nbformat": 4,
 "nbformat_minor": 2
}
